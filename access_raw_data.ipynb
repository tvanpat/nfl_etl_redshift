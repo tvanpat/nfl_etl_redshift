{
 "cells": [
  {
   "cell_type": "code",
   "execution_count": 1,
   "metadata": {},
   "outputs": [],
   "source": [
    "import urllib.request\n",
    "import json\n",
    "import glob\n",
    "import os\n",
    "import boto3\n",
    "import botocore\n",
    "import time\n",
    "from datetime import datetime\n",
    "\n",
    "\n",
    "from dotenv import load_dotenv\n",
    "load_dotenv()\n",
    "\n",
    "\n",
    "awskey = os.getenv('aws_key')\n",
    "awssecret = os.getenv('aws_secret')\n",
    "s3_bucket = os.getenv('s3_bucket')\n",
    "\n",
    "s3 = boto3.resource('s3',\n",
    "                    region_name=\"us-east-1\",\n",
    "                    aws_access_key_id=awskey,\n",
    "                    aws_secret_access_key=awssecret\n",
    "                    )\n",
    "\n",
    "bucket = s3.Bucket(s3_bucket)"
   ]
  },
  {
   "cell_type": "code",
   "execution_count": 2,
   "metadata": {},
   "outputs": [],
   "source": [
    "def save_to_bucket(data, filepath):\n",
    "    '''\n",
    "    Save file to bucket\n",
    "    '''\n",
    "    s3object = s3.Object(s3_bucket, filepath)\n",
    "    s3object.put(\n",
    "        Body=(bytes(json.dumps(data).encode('UTF-8')))\n",
    "    )"
   ]
  },
  {
   "cell_type": "code",
   "execution_count": 8,
   "metadata": {},
   "outputs": [],
   "source": [
    "def download_season_schedule(season_to_get):\n",
    "    '''\n",
    "    This function takes the\n",
    "    '''\n",
    "    print('Getting Season Schedule')\n",
    "    game_schedule_url = f'https://www.nfl.com/feeds-rs/schedules/{season_to_get}.json'\n",
    "    with urllib.request.urlopen(game_schedule_url) as url:\n",
    "        data = json.loads(url.read().decode())\n",
    "    game_schedule = data.get(\"gameSchedules\", \"\")\n",
    "    team_id_list = []\n",
    "    for game in game_schedule:\n",
    "        game_week_type = game.get(\"seasonType\", \"\")\n",
    "        game_week = game.get(\"week\", \"\")\n",
    "        game_id = game.get(\"gameId\", \"\")\n",
    "        filepath = f'gameids/{game_id}.json'\n",
    "        save_to_bucket(game_id, filepath)\n",
    "\n",
    "        season = game.get(\"season\", \"\")\n",
    "        season_type = game.get(\"seasonType\", \"\")\n",
    "        week = game.get(\"week\", \"\")\n",
    "        game_id = game.get(\"gameId\", \"\")\n",
    "        game_key = game.get(\"gameKey\", \"\")\n",
    "        home_id = game.get(\"homeTeamId\", \"\")\n",
    "        vis_id =game.get(\"visitorTeamId\", \"\")\n",
    "        game_type = game.get(\"gameType\", \"\")\n",
    "        week_name_abbr = game.get(\"weekNameAbbr\", \"\")\n",
    "        week_name = game.get(\"weekName\", \"\")\n",
    "\n",
    "        schedule_details ={'season':season, 'season_type':season_type,'week':week,'game_id':game_id,'game_key':game_key,'home_id':home_id,'vis_id':vis_id,'game_type':game_type,\n",
    "                       'week_name_abbr':week_name_abbr, 'week_name':week_name}\n",
    "\n",
    "        filepath = filepath = f'schedules_details/{game_id}.json'\n",
    "        save_to_bucket(schedule_details, filepath)\n",
    "\n",
    "        if home_id not in team_id_list:\n",
    "            team_id_list.append(home_id)\n",
    "        if vis_id not in team_id_list:\n",
    "            team_id_list.append(vis_id)\n",
    "\n",
    "    if '8700' in team_id_list:\n",
    "        team_id_list.remove('8700')\n",
    "    if '8600' in team_id_list:\n",
    "        team_id_list.remove('8600')\n",
    "\n",
    "    game_schedule_url = f'https://www.nfl.com/feeds-rs/teams/{season_to_get}.json'\n",
    "    with urllib.request.urlopen(game_schedule_url) as url:\n",
    "        sch_data = json.loads(url.read().decode())\n",
    "    team_info = sch_data.get(\"teams\", \"\")\n",
    "    \n",
    "    print('Getting Getting Coach Information')\n",
    "    print('Getting Getting Team Information')\n",
    "    for team_id in team_id_list:\n",
    "        coach_url = f'https://www.nfl.com/feeds-rs/coach/byTeam/{team_id}/{season_to_get}.json' \n",
    "        with urllib.request.urlopen(coach_url) as url:\n",
    "            data = json.loads(url.read().decode())\n",
    "\n",
    "        esbid = data['esbId']\n",
    "        pic_url = f'http://static.nfl.com/static/content/public/static/img/fantasy/transparent/200x200/{esbid}.png'\n",
    "        dateobj = datetime.strptime(data['birthDate'], '%m/%d/%Y')\n",
    "        birthdate = dateobj.strftime(\"%Y,%m,%d\")\n",
    "\n",
    "        coachjson = {'coach_id': data['nflId'], 'season': season_to_get, 'week': week, 'display_name': data['displayName'], 'first_name': data['firstName'], 'last_name': data['lastName'], \n",
    "                         'esbid': data['esbId'],'status': data['currentStatus'], 'birthdate': birthdate, 'hometown': data['homeTown'], 'college': data['collegeName'], \n",
    "                         'team_id': team_id, 'isdeceased': data['isDeceased'], 'pic_url': pic_url}\n",
    "\n",
    "        filepath = f'coaches/{season}_{week}_{team_id}.json'\n",
    "        save_to_bucket(coachjson, filepath)\n",
    "\n",
    "        for team in team_info:\n",
    "            teamidnum = team.get(\"teamId\", \"\")\n",
    "            if teamidnum == team_id:\n",
    "                division_abbr = team.get('divisionAbbr', '')\n",
    "\n",
    "                teamjson = {'team_id':team_id, 'season':season, 'abbr': team['abbr'], 'citystate':team['cityState'], 'full_name': team['fullName'], 'nick':team['nick'],\n",
    "                            'team_type': team['teamType'], 'conference_abbr': team['conferenceAbbr'], 'division_abbr': division_abbr, 'year_found':team['yearFound'], 'stadium_name':team['stadiumName']}\n",
    "\n",
    "                filepath = f'teams/{season}_{team_id}.json'\n",
    "                save_to_bucket(teamjson, filepath)\n",
    "\n",
    "    \n",
    "    \n",
    "    \n",
    "    print('Complete')"
   ]
  },
  {
   "cell_type": "code",
   "execution_count": 4,
   "metadata": {},
   "outputs": [],
   "source": [
    "def main():\n",
    "    '''\n",
    "    '''\n",
    "    season_to_get = input(str('Enter Season to download: '))\n",
    "    download_season_schedule(season_to_get)"
   ]
  },
  {
   "cell_type": "code",
   "execution_count": 11,
   "metadata": {},
   "outputs": [
    {
     "name": "stdin",
     "output_type": "stream",
     "text": [
      "Enter Season to download:  2019\n"
     ]
    },
    {
     "name": "stdout",
     "output_type": "stream",
     "text": [
      "Getting Season Schedule\n",
      "Getting Getting Coach Information\n",
      "Getting Getting Team Information\n",
      "Complete\n"
     ]
    }
   ],
   "source": [
    "main()"
   ]
  },
  {
   "cell_type": "code",
   "execution_count": null,
   "metadata": {},
   "outputs": [],
   "source": []
  }
 ],
 "metadata": {
  "kernelspec": {
   "display_name": "Python 3",
   "language": "python",
   "name": "python3"
  },
  "language_info": {
   "codemirror_mode": {
    "name": "ipython",
    "version": 3
   },
   "file_extension": ".py",
   "mimetype": "text/x-python",
   "name": "python",
   "nbconvert_exporter": "python",
   "pygments_lexer": "ipython3",
   "version": "3.7.7"
  }
 },
 "nbformat": 4,
 "nbformat_minor": 4
}
